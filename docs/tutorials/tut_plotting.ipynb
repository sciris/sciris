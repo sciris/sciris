{
 "cells": [
  {
   "cell_type": "markdown",
   "metadata": {},
   "source": [
    "# Plotting and colors\n",
    "\n",
    "We've already covered a lot on plotting in the previous tutorials. This tutorial is mostly a review of the material covered already, plus a few new tools to use."
   ]
  },
  {
   "cell_type": "markdown",
   "metadata": {},
   "source": [
    "<div class=\"alert alert-info\">\n",
    "    \n",
    "Click [here](https://mybinder.org/v2/gh/sciris/sciris/HEAD?labpath=docs%2Ftutorials%2Ftut_plotting.ipynb) to open an interactive version of this notebook.\n",
    "    \n",
    "</div>\n"
   ]
  },
  {
   "cell_type": "markdown",
   "metadata": {
    "tags": []
   },
   "source": [
    "## Plots\n",
    "\n",
    "### Basic plotting\n",
    "\n",
    "First, let's make a plot using standard Matplotlib, then import Sciris and make the same plot:"
   ]
  },
  {
   "cell_type": "code",
   "execution_count": null,
   "metadata": {},
   "outputs": [],
   "source": [
    "import numpy as np\n",
    "import matplotlib.pyplot as plt\n",
    "\n",
    "n = 1000\n",
    "x = np.arange(n)\n",
    "y = np.random.rand(n)\n",
    "c = np.sqrt(x*y)\n",
    "kwargs = dict(x=x, y=y, s=100, c=c, alpha=0.2)\n",
    "\n",
    "# Vanilla Matplotlib\n",
    "f1 = plt.scatter(**kwargs)\n",
    "plt.show()\n",
    "\n",
    "# Chocolate Sciris\n",
    "import sciris as sc\n",
    "sc.options(jupyter=True)\n",
    "f2 = plt.scatter(**kwargs)"
   ]
  },
  {
   "cell_type": "markdown",
   "metadata": {},
   "source": [
    "See how the Sciris version is much sharper? If Sciris detects that Jupyter is running (`sc.isjupyter()`), it switches to the higher-resolution backend `'retina'`. But, if you really like blurry plots, you can set `sc.options(jupyter=False)`. We won't judge."
   ]
  },
  {
   "cell_type": "markdown",
   "metadata": {},
   "source": [
    "### Plotting styles\n",
    "\n",
    "By default, Sciris uses higher resolution both for display and saving. But it also has two other built-in styles, `simple` and `fancy`, that you can call just like any other Matplotlib style:"
   ]
  },
  {
   "cell_type": "code",
   "execution_count": null,
   "metadata": {},
   "outputs": [],
   "source": [
    "def demo_plot(label, npts=100, nlines=5):\n",
    "    fig = plt.figure()\n",
    "    for i in range(nlines):\n",
    "        np.random.seed(i+1)\n",
    "        plt.plot(np.cumsum(np.random.randn(npts)), alpha=0.7, label=f'Seed {i}')\n",
    "    plt.title(f'{label} style')\n",
    "    plt.legend()\n",
    "    return\n",
    "\n",
    "for style in ['default', 'sciris.simple', 'sciris.fancy']:\n",
    "    with plt.style.context(style): # Use a style context so the changes don't persist\n",
    "        demo_plot(style)"
   ]
  },
  {
   "cell_type": "markdown",
   "metadata": {},
   "source": [
    "The \"simple\" style is close to Matplotlib's defaults (just without boxes around the axes and legend, more or less), while the \"fancy\" style is close to Seaborn's default."
   ]
  },
  {
   "cell_type": "markdown",
   "metadata": {},
   "source": [
    "### Plot configuration\n",
    "\n",
    "One of the fun-but-annoying things about plots is that they're so customizable: no two plots are ever exactly the same. (One [hopes](https://www.nytimes.com/interactive/2022/10/29/opinion/science-fraud-image-manipulation-photoshop.html).) Sciris has a lot of options for configuring plots. Here are some of the most commonly used ones, which are hopefully more or less self-explanatory:"
   ]
  },
  {
   "cell_type": "code",
   "execution_count": null,
   "metadata": {},
   "outputs": [],
   "source": [
    "sc.options(font='serif') # Change font to serif\n",
    "x = sc.daterange('2022-06-01', '2022-12-31', as_date=True) # Create dates\n",
    "y = sc.smooth(np.random.randn(len(x))**2)*1000 # Create smoothed random numbers\n",
    "c = sc.vectocolor(np.log(y), cmap='turbo') # Set colors proportional to squared y values\n",
    "plt.scatter(x, y, c=c) # Plot the data\n",
    "sc.dateformatter() # Automatic x-axis date formatter\n",
    "sc.commaticks() # Add commas to y-axis tick labels\n",
    "sc.setylim() # Automatically set the y-axis limits, including starting at 0\n",
    "sc.boxoff() # Remove the top and right axis lines\n",
    "sc.options(font='default') # Reset font to default after plotting"
   ]
  },
  {
   "cell_type": "markdown",
   "metadata": {},
   "source": [
    "### Advanced plotting options\n",
    "\n"
   ]
  },
  {
   "cell_type": "markdown",
   "metadata": {},
   "source": [
    "Do you ever have, say, 14 plots, and have to think about how to turn that into a grid of subplots? `sc.getrowscols()` will solve that problem for you. Speaking of subplots, by default Matplotlib has a lot of wasted space; `sc.figlayout()` will convert the figure to \"tight\" layout, which (usually) fixes this. Finally, since 3D plots are cool, let's do more of those. \n",
    "\n",
    "Putting it all together:"
   ]
  },
  {
   "cell_type": "code",
   "execution_count": null,
   "metadata": {},
   "outputs": [],
   "source": [
    "class Squiggles(sc.prettyobj):\n",
    "    \n",
    "    def __init__(self, n=9, length=100):\n",
    "        self.n = n\n",
    "        self.length = length\n",
    "\n",
    "    def make(self):\n",
    "        self.d = sc.objdict() # Create objdict to store the data\n",
    "        for k in ['x', 'y', 'z']:\n",
    "            self.d[k] = np.cumsum(np.random.randn(self.n, self.length), axis=1)\n",
    "        self.c = sc.vectocolor(np.arange(self.length), cmap='parula') # Make colors\n",
    "    \n",
    "    def plot(self):\n",
    "        d = self.d\n",
    "        nrows,ncols = sc.getrowscols(self.n) # Automatically figure out the rows and columns\n",
    "        plt.figure(figsize=(8,6))\n",
    "        for i in range(self.n):\n",
    "            ax = plt.subplot(nrows, ncols, i+1, projection='3d')\n",
    "            sc.scatter3d(d.x[i], d.y[i], d.z[i], s=20, c=self.c, ax=ax, alpha=0.5) # Plot 3D\n",
    "        sc.figlayout() # Automatically remove excess whitespace\n",
    "        return\n",
    "\n",
    "sq = Squiggles()\n",
    "sq.make()\n",
    "sq.plot()"
   ]
  },
  {
   "cell_type": "markdown",
   "metadata": {},
   "source": [
    "## Colors\n",
    "\n",
    "We've seen a color or two already, but let's review a couple more tools. You probably know that data tend to be either _continuous_ or _categorical_. For continuous variables, we want adjacent points to be close together. But for categorical variables, we want them to be far apart. \n",
    "\n",
    "The main way of creating a continuous colormap in Sciris is `sc.vectocolor()` (or its 2D equivalent `sc.arraytocolor()`). In most cases, this is pretty close to what Matplotlib would pick for the color mapping on its own. However, with `sc.vectocolor()` we have more flexibility.\n",
    "\n",
    "For categorical variables, the main function is `sc.gridcolors()`. For 9 or fewer colors, it uses the [ColorBrewer colors](https://colorbrewer2.org/), which are awesome. For 10-19 colors, it uses [Kelly's colors of maximum contrast](https://medium.com/@rjurney/kellys-22-colours-of-maximum-contrast-58edb70c90d1), which are also awesome. For 20 or more colors, it will create colors uniformly spaced in RGB space.\n",
    "\n",
    "But a picture is worth 1000 words, right?"
   ]
  },
  {
   "cell_type": "code",
   "execution_count": null,
   "metadata": {},
   "outputs": [],
   "source": [
    "def colorcube(n=50, title=None, continuous=True):\n",
    "    if continuous:\n",
    "        colors = sc.vectocolor(n, cmap=title.lower())\n",
    "    else:\n",
    "        colors = sc.gridcolors(n, asarray=True)\n",
    "    plt.figure()\n",
    "    ax = sc.scatter3d(colors[:,0], colors[:,1], colors[:,2], c=colors, s=100)\n",
    "    ax.set_xlabel('Red')\n",
    "    ax.set_ylabel('Green')\n",
    "    ax.set_zlabel('Blue')\n",
    "    ax.set_xlim((0,1))\n",
    "    ax.set_ylim((0,1))\n",
    "    ax.set_zlim((0,1))\n",
    "    ax.set_title(title, fontweight='bold')\n",
    "\n",
    "# Illustrate continuous colormaps\n",
    "colorcube(title='Viridis')\n",
    "colorcube(title='Parula')\n",
    "colorcube(title='OrangeBlue')\n",
    "\n",
    "# Illustrate categorical colormaps\n",
    "colorcube(n=8,   title='ColorBrewer colors', continuous=False)\n",
    "colorcube(n=20,  title=\"Kelly's colors\",     continuous=False)\n",
    "colorcube(n=100, title='Grid colors',        continuous=False)"
   ]
  }
 ],
 "metadata": {
  "kernelspec": {
   "display_name": "Python 3 (ipykernel)",
   "language": "python",
   "name": "python3"
  },
  "language_info": {
   "codemirror_mode": {
    "name": "ipython",
    "version": 3
   },
   "file_extension": ".py",
   "mimetype": "text/x-python",
   "name": "python",
   "nbconvert_exporter": "python",
   "pygments_lexer": "ipython3",
   "version": "3.12.10"
  },
  "toc": {
   "base_numbering": 1,
   "nav_menu": {},
   "number_sections": true,
   "sideBar": true,
   "skip_h1_title": false,
   "title_cell": "Table of Contents",
   "title_sidebar": "Contents",
   "toc_cell": false,
   "toc_position": {},
   "toc_section_display": true,
   "toc_window_display": false
  }
 },
 "nbformat": 4,
 "nbformat_minor": 4
}
